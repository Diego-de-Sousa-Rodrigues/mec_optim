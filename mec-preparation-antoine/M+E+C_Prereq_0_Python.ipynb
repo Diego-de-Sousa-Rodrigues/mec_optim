{
 "cells": [
  {
   "cell_type": "markdown",
   "metadata": {},
   "source": [
    "# <center>Lecture 0: Introduction to Python</center>\n",
    "## <center>Antoine Chapel (Sciences Po & PSE) </center>\n",
    "### <center>Alfred Galichon's [math+econ+code](https://www.math-econ-code.org/) prerequisite class on numerical optimization and econometrics, in Python </center>\n",
    "Class content by Antoine Chapel. Past and present support from Alfred Galichon's ERC grant CoG-866274 is acknowledged, as well as inputs from contributors listed [here](https://www.math-econ-code.org/team). If you reuse material from this class, please cite as:\n",
    "\n",
    "Antoine Chapel, 'math+econ+code' prerequisite class on numerical optimization and econometrics, January 2023"
   ]
  },
  {
   "cell_type": "markdown",
   "metadata": {},
   "source": [
    "This is a **very short** introduction to Python programming. You will find a survival kit of how to read and write your own Python code. There are many excellent tutorials online, from the official [one](https://docs.python.org/3/tutorial/) to the set of tutorials proposed on [QuantEcon](https://python-programming.quantecon.org/intro.html) (Sargent & Stachurski). Both of those are more advanced and complete than what you will find here. Python is also a mature language with a lot of online help available. If you encounter an issue or an error message and type it in google, it is likely that someone asked that very same question in 2013 on StackOverflow."
   ]
  },
  {
   "cell_type": "markdown",
   "metadata": {},
   "source": [
    "## The Basics"
   ]
  },
  {
   "cell_type": "code",
   "execution_count": 1,
   "metadata": {},
   "outputs": [
    {
     "name": "stdout",
     "output_type": "stream",
     "text": [
      "Welcome to M+E+C\n"
     ]
    }
   ],
   "source": [
    "# This is a comment. It will be ignored by the Python interpreter\n",
    "# To display something in Python: print\n",
    "\n",
    "print(\"Welcome to M+E+C\")"
   ]
  },
  {
   "cell_type": "code",
   "execution_count": 2,
   "metadata": {},
   "outputs": [
    {
     "name": "stdout",
     "output_type": "stream",
     "text": [
      "Dominique is 26 years old\n",
      "In 5 years, Dominique will be 31 years old\n"
     ]
    }
   ],
   "source": [
    "#variable declaration is easy in Python, you do not need to write the variable type explicitly:\n",
    "\n",
    "name = \"Dominique\"\n",
    "age = 26\n",
    "\n",
    "\n",
    "#Easy way:\n",
    "print(name, \"is\", age, \"years old\")\n",
    "\n",
    "#More modern way:\n",
    "print(f'In {5} years, {name} will be {age+5} years old')"
   ]
  },
  {
   "cell_type": "code",
   "execution_count": 3,
   "metadata": {},
   "outputs": [
    {
     "name": "stdout",
     "output_type": "stream",
     "text": [
      "1212 24\n"
     ]
    }
   ],
   "source": [
    "#As you see, Python is quite forgiving with type mismatch. Be careful however:\n",
    "number_string = \"12\" #this is a string\n",
    "number_int = 12 #this is an integer\n",
    "\n",
    "\n",
    "print(2*number_string, 2*number_int)\n",
    "#The result is clearly not the same"
   ]
  },
  {
   "cell_type": "code",
   "execution_count": 4,
   "metadata": {},
   "outputs": [
    {
     "name": "stdout",
     "output_type": "stream",
     "text": [
      "55\n",
      "2.0\n"
     ]
    }
   ],
   "source": [
    "#Python is also a calculator\n",
    "\n",
    "print(5+10*5)\n",
    "print((64**(0.5))/4)"
   ]
  },
  {
   "cell_type": "markdown",
   "metadata": {},
   "source": [
    "## Types and slicing"
   ]
  },
  {
   "cell_type": "code",
   "execution_count": 5,
   "metadata": {},
   "outputs": [],
   "source": [
    "#Python uses 0-indexing: in a list of objects, the first object has index 0. This will be clearer later.\n",
    "#Let us review the most common variable types that can be used in Python and their mutability:"
   ]
  },
  {
   "cell_type": "markdown",
   "metadata": {},
   "source": [
    "### String variables"
   ]
  },
  {
   "cell_type": "code",
   "execution_count": 6,
   "metadata": {},
   "outputs": [
    {
     "data": {
      "text/plain": [
       "str"
      ]
     },
     "execution_count": 6,
     "metadata": {},
     "output_type": "execute_result"
    }
   ],
   "source": [
    "song_name = \"Hello, goodbye\"\n",
    "type(song_name)"
   ]
  },
  {
   "cell_type": "code",
   "execution_count": null,
   "metadata": {},
   "outputs": [],
   "source": [
    "#Slicing: note the 0-indexing of Python. To get the first element, you use the index 0.\n",
    "print(song_name[0])\n",
    "\n",
    "#Trying to change a letter in a string will return an error:\n",
    "song_name[0] = \"Y\"\n",
    "\n",
    "#Errors are quite explicit in Python"
   ]
  },
  {
   "cell_type": "code",
   "execution_count": 7,
   "metadata": {},
   "outputs": [
    {
     "name": "stdout",
     "output_type": "stream",
     "text": [
      "Hell Bells\n"
     ]
    }
   ],
   "source": [
    "#You may however select a part of a string and use it in the construction of a new variable:\n",
    "new_song_name = song_name[0:4] + \" Bells\"\n",
    "print(new_song_name)"
   ]
  },
  {
   "cell_type": "code",
   "execution_count": null,
   "metadata": {},
   "outputs": [],
   "source": [
    "#Exercise 1: try to print \"Hello darkness my old friend\" using song_name:\n",
    "beautiful_song_name = song_name[] + \"\"\n",
    "\n",
    "\n",
    "\n",
    "\n",
    "\n",
    "print(beautiful_song_name)"
   ]
  },
  {
   "cell_type": "markdown",
   "metadata": {},
   "source": [
    "### Integers and Floats"
   ]
  },
  {
   "cell_type": "code",
   "execution_count": 8,
   "metadata": {},
   "outputs": [
    {
     "data": {
      "text/plain": [
       "int"
      ]
     },
     "execution_count": 8,
     "metadata": {},
     "output_type": "execute_result"
    }
   ],
   "source": [
    "#Those are quite straightforward:\n",
    "number_int = 5\n",
    "number_float = 5.0\n",
    "\n",
    "type(number_int)"
   ]
  },
  {
   "cell_type": "code",
   "execution_count": 9,
   "metadata": {},
   "outputs": [
    {
     "data": {
      "text/plain": [
       "float"
      ]
     },
     "execution_count": 9,
     "metadata": {},
     "output_type": "execute_result"
    }
   ],
   "source": [
    "type(number_float)"
   ]
  },
  {
   "cell_type": "markdown",
   "metadata": {},
   "source": [
    "### Lists"
   ]
  },
  {
   "cell_type": "code",
   "execution_count": 10,
   "metadata": {},
   "outputs": [],
   "source": [
    "#A python list is an ordered set of objects. It can contain any other type of variable, including nested lists."
   ]
  },
  {
   "cell_type": "code",
   "execution_count": 11,
   "metadata": {},
   "outputs": [
    {
     "data": {
      "text/plain": [
       "list"
      ]
     },
     "execution_count": 11,
     "metadata": {},
     "output_type": "execute_result"
    }
   ],
   "source": [
    "list_firstname = [\"Alfred\", \"Anna\", \"Clément\", \"Loan\", \"Antoine\"]\n",
    "type(list_firstname)"
   ]
  },
  {
   "cell_type": "code",
   "execution_count": 12,
   "metadata": {},
   "outputs": [
    {
     "data": {
      "text/plain": [
       "'Loan'"
      ]
     },
     "execution_count": 12,
     "metadata": {},
     "output_type": "execute_result"
    }
   ],
   "source": [
    "#To slice \"from the end\", you may use negative indexes.\n",
    "\n",
    "list_firstname[-2]"
   ]
  },
  {
   "cell_type": "code",
   "execution_count": 13,
   "metadata": {},
   "outputs": [
    {
     "name": "stdout",
     "output_type": "stream",
     "text": [
      "['Alfred', 'Anna', 'Clément', 'Loan', 'Jean-Pierre']\n"
     ]
    }
   ],
   "source": [
    "#Lists are mutable objects: you can change an element from the list:\n",
    "list_firstname[-1] = \"Jean-Pierre\"\n",
    "print(list_firstname)"
   ]
  },
  {
   "cell_type": "code",
   "execution_count": 14,
   "metadata": {},
   "outputs": [
    {
     "name": "stdout",
     "output_type": "stream",
     "text": [
      "['Alfred', 'Anna', 'Clément', 'Loan', 'Jean-Pierre', 'Jean-Michel']\n",
      "['Alfred', 'Anna', 'Louise-Marie', 'Clément', 'Loan', 'Jean-Pierre', 'Jean-Michel']\n"
     ]
    }
   ],
   "source": [
    "#You may add an element to a list by putting it at the very end, using the append method:\n",
    "list_firstname.append(\"Jean-Michel\")\n",
    "print(list_firstname)\n",
    "\n",
    "\n",
    "#Or insert it at some precise index:\n",
    "list_firstname.insert(2, \"Louise-Marie\")\n",
    "print(list_firstname)"
   ]
  },
  {
   "cell_type": "markdown",
   "metadata": {},
   "source": [
    "### Tuples"
   ]
  },
  {
   "cell_type": "code",
   "execution_count": 15,
   "metadata": {},
   "outputs": [
    {
     "data": {
      "text/plain": [
       "tuple"
      ]
     },
     "execution_count": 15,
     "metadata": {},
     "output_type": "execute_result"
    }
   ],
   "source": [
    "# A tuple is an other type of ordered set of objects\n",
    "\n",
    "tuple_name = (\"Galichon\", \"Vlasova\", \"Montes\", \"Tricot\", \"Chapel\")\n",
    "type(tuple_name)"
   ]
  },
  {
   "cell_type": "code",
   "execution_count": 16,
   "metadata": {},
   "outputs": [
    {
     "name": "stdout",
     "output_type": "stream",
     "text": [
      "Error: Tuples are not mutable\n"
     ]
    }
   ],
   "source": [
    "#Tuples differ from lists because they are immutable:\n",
    "\n",
    "try:\n",
    "    tuple_name[-1] = \"Pierre\"\n",
    "except:\n",
    "    print(\"Error: Tuples are not mutable\")\n",
    "    \n",
    "#The syntax shown above is a form of basic error management"
   ]
  },
  {
   "cell_type": "markdown",
   "metadata": {},
   "source": [
    "### Dictionaries"
   ]
  },
  {
   "cell_type": "code",
   "execution_count": 17,
   "metadata": {},
   "outputs": [],
   "source": [
    "#Dictionary is an unordered set of objects with some useful properties:\n",
    "\n",
    "dict_fruit = {\"apple\": 27, \"pear\": 12}"
   ]
  },
  {
   "cell_type": "code",
   "execution_count": 18,
   "metadata": {},
   "outputs": [
    {
     "data": {
      "text/plain": [
       "dict_items([('apple', 27), ('pear', 12)])"
      ]
     },
     "execution_count": 18,
     "metadata": {},
     "output_type": "execute_result"
    }
   ],
   "source": [
    "dict_fruit.items()"
   ]
  },
  {
   "cell_type": "code",
   "execution_count": 19,
   "metadata": {},
   "outputs": [
    {
     "data": {
      "text/plain": [
       "dict_keys(['apple', 'pear'])"
      ]
     },
     "execution_count": 19,
     "metadata": {},
     "output_type": "execute_result"
    }
   ],
   "source": [
    "dict_fruit.keys()"
   ]
  },
  {
   "cell_type": "code",
   "execution_count": 20,
   "metadata": {},
   "outputs": [
    {
     "data": {
      "text/plain": [
       "dict_values([27, 12])"
      ]
     },
     "execution_count": 20,
     "metadata": {},
     "output_type": "execute_result"
    }
   ],
   "source": [
    "dict_fruit.values()"
   ]
  },
  {
   "cell_type": "code",
   "execution_count": 21,
   "metadata": {},
   "outputs": [
    {
     "data": {
      "text/plain": [
       "27"
      ]
     },
     "execution_count": 21,
     "metadata": {},
     "output_type": "execute_result"
    }
   ],
   "source": [
    "dict_fruit[\"apple\"]"
   ]
  },
  {
   "cell_type": "code",
   "execution_count": 22,
   "metadata": {},
   "outputs": [
    {
     "name": "stdout",
     "output_type": "stream",
     "text": [
      "{'apple': 39, 'pear': 12}\n"
     ]
    }
   ],
   "source": [
    "new_harvest  = {\"apple\": 12, \"pear\": 1}\n",
    "\n",
    "#Let's update the values in our dictionary:\n",
    "dict_fruit[\"apple\"] = dict_fruit[\"apple\"] + new_harvest[\"apple\"]\n",
    "\n",
    "\n",
    "#Exercise 2: Do the same for pears, but use the following syntax instead:\n",
    "#To update a variable, instead of x = x + 1, you may use x += 1\n",
    "\n",
    "dict_fruit[\"pear\"]\n",
    "\n",
    "\n",
    "print(dict_fruit)"
   ]
  },
  {
   "cell_type": "markdown",
   "metadata": {},
   "source": [
    "## Loopings: if, for, while"
   ]
  },
  {
   "cell_type": "code",
   "execution_count": 23,
   "metadata": {},
   "outputs": [
    {
     "data": {
      "text/plain": [
       "bool"
      ]
     },
     "execution_count": 23,
     "metadata": {},
     "output_type": "execute_result"
    }
   ],
   "source": [
    "# One last type that will be useful here is the Boolean. A Boolean can be \"True\" or \"False\".\n",
    "\n",
    "type(True)"
   ]
  },
  {
   "cell_type": "code",
   "execution_count": 24,
   "metadata": {},
   "outputs": [
    {
     "name": "stdout",
     "output_type": "stream",
     "text": [
      "Is 4 equal to 5 ? False\n",
      "Is 4 lower or equal to 5 ? True\n",
      "Is 4 strictly higher than 5 ? False\n",
      "Is 4 different from 5 ? True\n"
     ]
    }
   ],
   "source": [
    "#Some boolean operations:\n",
    "print(f'Is 4 equal to 5 ? {4 == 5}')\n",
    "\n",
    "print(f'Is 4 lower or equal to 5 ? {4 <= 5}')\n",
    "\n",
    "print(f'Is 4 strictly higher than 5 ? {4 > 5}')\n",
    "\n",
    "print(f'Is 4 different from 5 ? {4 != 5}')"
   ]
  },
  {
   "cell_type": "code",
   "execution_count": 25,
   "metadata": {},
   "outputs": [
    {
     "name": "stdout",
     "output_type": "stream",
     "text": [
      "False\n"
     ]
    }
   ],
   "source": [
    "print(True and False)"
   ]
  },
  {
   "cell_type": "code",
   "execution_count": 26,
   "metadata": {},
   "outputs": [
    {
     "name": "stdout",
     "output_type": "stream",
     "text": [
      "True\n"
     ]
    }
   ],
   "source": [
    "print(True or False)"
   ]
  },
  {
   "cell_type": "code",
   "execution_count": 27,
   "metadata": {},
   "outputs": [],
   "source": [
    "# \"If\" is a keyword by which, if the condition stated afterwards is true, the indented code will execute. For example:\n",
    "\n",
    "grade = 9.5\n",
    "\n",
    "if grade >= 10:\n",
    "    print('You passed !')\n",
    "    \n",
    "#Nothing happens because the condition x >= 10 is not met."
   ]
  },
  {
   "cell_type": "code",
   "execution_count": 28,
   "metadata": {},
   "outputs": [
    {
     "name": "stdout",
     "output_type": "stream",
     "text": [
      "You passed\n"
     ]
    }
   ],
   "source": [
    "grade1 = 9.5\n",
    "grade2 = 12.001\n",
    "\n",
    "if grade1 >= 10 or grade2 > 12:\n",
    "    print('You passed')"
   ]
  },
  {
   "cell_type": "code",
   "execution_count": 29,
   "metadata": {},
   "outputs": [
    {
     "name": "stdout",
     "output_type": "stream",
     "text": [
      "You passed with a good grade\n"
     ]
    }
   ],
   "source": [
    "#More complex conditions:\n",
    "average = 15\n",
    "\n",
    "if average < 10:\n",
    "    print(\"Better luck next time !\")\n",
    "elif average >= 10 and average < 14:\n",
    "    print(\"You passed.\")\n",
    "elif average >= 14 and average < 18:\n",
    "    print(\"You passed with a good grade\")\n",
    "else:\n",
    "    print(\"You passed with an excellent grade !\")\n",
    "\n",
    "    \n",
    "#As you can see, elif checks alternative conditions, and else acts as a catch-all if none of the previous conditions were met."
   ]
  },
  {
   "cell_type": "code",
   "execution_count": 30,
   "metadata": {},
   "outputs": [
    {
     "name": "stdout",
     "output_type": "stream",
     "text": [
      "Joséphine\n",
      "Luc\n",
      "Kevin\n",
      "Leandre\n"
     ]
    }
   ],
   "source": [
    "#\"for\" loops: they avoid you from having to repeat five times the same operation.\n",
    "#Do not overuse loops. loops nested inside other loops can get very slow in Python.\n",
    "\n",
    "listname = [\"Joséphine\", \"Luc\", \"Kevin\", \"Leandre\"]\n",
    "\n",
    "for name in listname:\n",
    "    print(name)"
   ]
  },
  {
   "cell_type": "code",
   "execution_count": 31,
   "metadata": {},
   "outputs": [
    {
     "name": "stdout",
     "output_type": "stream",
     "text": [
      "Better luck next time !\n",
      "You passed with a good grade\n",
      "You passed with an excellent grade !\n",
      "Better luck next time !\n",
      "You passed.\n"
     ]
    }
   ],
   "source": [
    "grade_list = [8, 15, 19, 0, 12]\n",
    "\n",
    "for grade in grade_list:\n",
    "    if grade < 10:\n",
    "        print(\"Better luck next time !\")\n",
    "    elif grade >= 10 and grade < 14:\n",
    "        print(\"You passed.\")\n",
    "    elif grade >= 14 and grade < 18:\n",
    "        print(\"You passed with a good grade\")\n",
    "    else:\n",
    "        print(\"You passed with an excellent grade !\")\n",
    "    "
   ]
  },
  {
   "cell_type": "code",
   "execution_count": 32,
   "metadata": {},
   "outputs": [
    {
     "name": "stdout",
     "output_type": "stream",
     "text": [
      "[0, 1, 2, 3, 4, 5, 6, 7, 8, 9]\n"
     ]
    }
   ],
   "source": [
    "#A useful tool with \"for\": range\n",
    "index_list = []\n",
    "\n",
    "I = 10\n",
    "for i in range(I):\n",
    "    index_list.append(i)\n",
    "\n",
    "print(index_list)"
   ]
  },
  {
   "cell_type": "code",
   "execution_count": 33,
   "metadata": {},
   "outputs": [
    {
     "name": "stdout",
     "output_type": "stream",
     "text": [
      "[0, 1, 2, 3, 4, 5, 6, 7, 8, 9]\n"
     ]
    }
   ],
   "source": [
    "#while loops:\n",
    "index_list_bis = []\n",
    "\n",
    "i_max = 10\n",
    "i = 0\n",
    "\n",
    "while i < i_max: #while: = \"as long as\" condition\n",
    "    index_list_bis.append(i)\n",
    "    i += 1 # increments i by 1: same thing as i = i + 1\n",
    "\n",
    "print(index_list_bis)"
   ]
  },
  {
   "cell_type": "markdown",
   "metadata": {},
   "source": [
    "## Functions\n",
    "You can do a lot in Python using nothing but functions. A function is an input-output machine. It goes beyond the function you use in maths, although you can obviously build your favorite univariate/multivariate function in Python."
   ]
  },
  {
   "cell_type": "code",
   "execution_count": 34,
   "metadata": {},
   "outputs": [],
   "source": [
    "#You can create functions with the keyword \"def\"\n",
    "def return_square(x):\n",
    "    return x**2"
   ]
  },
  {
   "cell_type": "code",
   "execution_count": 35,
   "metadata": {},
   "outputs": [
    {
     "name": "stdout",
     "output_type": "stream",
     "text": [
      "25\n"
     ]
    }
   ],
   "source": [
    "x = 5\n",
    "x_squared = return_square(x)\n",
    "print(x_squared)"
   ]
  },
  {
   "cell_type": "code",
   "execution_count": 36,
   "metadata": {},
   "outputs": [],
   "source": [
    "def attribute_comment(grade_list):\n",
    "    comment_list = []\n",
    "    \n",
    "    for grade in grade_list:\n",
    "        if grade < 10:\n",
    "            comment_list.append(\"Better luck next time !\")\n",
    "        elif grade >= 10 and grade < 14:\n",
    "            comment_list.append(\"You passed.\")\n",
    "        elif grade >= 14 and grade < 18:\n",
    "            comment_list.append(\"You passed with a good grade\")\n",
    "        else:\n",
    "            comment_list.append(\"You passed with an excellent grade !\")\n",
    "            \n",
    "    return comment_list"
   ]
  },
  {
   "cell_type": "code",
   "execution_count": 37,
   "metadata": {},
   "outputs": [],
   "source": [
    "grade_list_bis = grade_list.copy()"
   ]
  },
  {
   "cell_type": "code",
   "execution_count": 38,
   "metadata": {},
   "outputs": [
    {
     "data": {
      "text/plain": [
       "['Better luck next time !',\n",
       " 'You passed with a good grade',\n",
       " 'You passed with an excellent grade !',\n",
       " 'Better luck next time !',\n",
       " 'You passed.']"
      ]
     },
     "execution_count": 38,
     "metadata": {},
     "output_type": "execute_result"
    }
   ],
   "source": [
    "attribute_comment(grade_list_bis)"
   ]
  },
  {
   "cell_type": "markdown",
   "metadata": {},
   "source": [
    "## Classes"
   ]
  },
  {
   "cell_type": "code",
   "execution_count": 39,
   "metadata": {},
   "outputs": [],
   "source": [
    "# Classes are an object-oriented-programming tool. You can see it as a way to design your own type\n",
    "#Let us create a simple one, where a teacher wants to automate his comment attribution"
   ]
  },
  {
   "cell_type": "code",
   "execution_count": 40,
   "metadata": {},
   "outputs": [],
   "source": [
    "class GradeBook: #Object gradebook\n",
    "    \n",
    "    def __init__(self, courselist, gradelist): # we attach some variables to this class of objects\n",
    "        self.courselist = courselist\n",
    "        self.gradelist = gradelist\n",
    "        self.commentlist = []\n",
    "    \n",
    "    def attribute_comments(self):\n",
    "        for grade in self.gradelist:\n",
    "            if grade < 10:\n",
    "                self.commentlist.append(\"Better luck next time !\")\n",
    "            elif grade >= 10 and grade < 14:\n",
    "                self.commentlist.append(\"You passed.\")\n",
    "            elif grade >= 14 and grade < 18:\n",
    "                self.commentlist.append(\"You passed with a good grade\")\n",
    "            else:\n",
    "                self.commentlist.append(\"You passed with an excellent grade !\")\n",
    "    def send_grades(self):\n",
    "        return list(zip(self.courselist, self.gradelist, self.commentlist))"
   ]
  },
  {
   "cell_type": "code",
   "execution_count": 67,
   "metadata": {},
   "outputs": [
    {
     "name": "stdout",
     "output_type": "stream",
     "text": [
      "<class '__main__.GradeBook'>\n"
     ]
    }
   ],
   "source": [
    "Nathan_grades = GradeBook([\"Maths\", \"Stats\"], [15, 20]) #Here we have created an object, Nathan_grades. It is\n",
    "print(type(Nathan_grades))                              #an instance of the class GradeBook, that contains data."
   ]
  },
  {
   "cell_type": "code",
   "execution_count": 42,
   "metadata": {},
   "outputs": [
    {
     "data": {
      "text/plain": [
       "['Maths', 'Stats']"
      ]
     },
     "execution_count": 42,
     "metadata": {},
     "output_type": "execute_result"
    }
   ],
   "source": [
    "Nathan_grades.courselist"
   ]
  },
  {
   "cell_type": "code",
   "execution_count": 43,
   "metadata": {},
   "outputs": [
    {
     "data": {
      "text/plain": [
       "[15, 20]"
      ]
     },
     "execution_count": 43,
     "metadata": {},
     "output_type": "execute_result"
    }
   ],
   "source": [
    "Nathan_grades.gradelist"
   ]
  },
  {
   "cell_type": "code",
   "execution_count": 44,
   "metadata": {},
   "outputs": [
    {
     "data": {
      "text/plain": [
       "[]"
      ]
     },
     "execution_count": 44,
     "metadata": {},
     "output_type": "execute_result"
    }
   ],
   "source": [
    "Nathan_grades.commentlist"
   ]
  },
  {
   "cell_type": "code",
   "execution_count": 45,
   "metadata": {},
   "outputs": [],
   "source": [
    "Nathan_grades.attribute_comments()"
   ]
  },
  {
   "cell_type": "code",
   "execution_count": 46,
   "metadata": {},
   "outputs": [
    {
     "data": {
      "text/plain": [
       "[('Maths', 15, 'You passed with a good grade'),\n",
       " ('Stats', 20, 'You passed with an excellent grade !')]"
      ]
     },
     "execution_count": 46,
     "metadata": {},
     "output_type": "execute_result"
    }
   ],
   "source": [
    "Nathan_grades.send_grades()"
   ]
  },
  {
   "cell_type": "markdown",
   "metadata": {},
   "source": [
    "## NumPy\n",
    "Python has no built-in tool for handling matrices. To do so and much more, we will rely\n",
    "On an external library: Numpy"
   ]
  },
  {
   "cell_type": "code",
   "execution_count": 47,
   "metadata": {},
   "outputs": [],
   "source": [
    "import numpy as np"
   ]
  },
  {
   "cell_type": "code",
   "execution_count": 48,
   "metadata": {},
   "outputs": [
    {
     "name": "stdout",
     "output_type": "stream",
     "text": [
      "[[1 2 3]\n",
      " [4 5 6]]\n",
      "<class 'numpy.ndarray'>\n"
     ]
    }
   ],
   "source": [
    "matrix = np.array([[1, 2, 3],\n",
    "                   [4, 5, 6]])\n",
    "print(matrix)\n",
    "print(type(matrix))"
   ]
  },
  {
   "cell_type": "code",
   "execution_count": 49,
   "metadata": {},
   "outputs": [],
   "source": [
    "#Numpy arrays are mutable objects"
   ]
  },
  {
   "cell_type": "code",
   "execution_count": 50,
   "metadata": {},
   "outputs": [
    {
     "name": "stdout",
     "output_type": "stream",
     "text": [
      "(2, 3)\n"
     ]
    }
   ],
   "source": [
    "print(matrix.shape)"
   ]
  },
  {
   "cell_type": "code",
   "execution_count": 51,
   "metadata": {},
   "outputs": [],
   "source": [
    "for i in range(matrix.shape[1]):\n",
    "    matrix[:, i] = matrix[:, i]*(10**i)"
   ]
  },
  {
   "cell_type": "code",
   "execution_count": 52,
   "metadata": {},
   "outputs": [
    {
     "data": {
      "text/plain": [
       "array([  1,  20, 300])"
      ]
     },
     "execution_count": 52,
     "metadata": {},
     "output_type": "execute_result"
    }
   ],
   "source": [
    "matrix[0, :]"
   ]
  },
  {
   "cell_type": "code",
   "execution_count": 53,
   "metadata": {},
   "outputs": [
    {
     "name": "stdout",
     "output_type": "stream",
     "text": [
      "[[1 2 3]\n",
      " [4 5 6]]\n",
      "[[ 6  7  9]\n",
      " [10 11 12]]\n"
     ]
    }
   ],
   "source": [
    "#Matrix operations:\n",
    "\n",
    "matrix1 = np.array([[1, 2, 3],\n",
    "                    [4, 5, 6]])\n",
    "matrix2 = np.array([[6, 7, 9],\n",
    "                    [10, 11, 12]])\n",
    "print(matrix1)\n",
    "print(matrix2)"
   ]
  },
  {
   "cell_type": "code",
   "execution_count": 54,
   "metadata": {},
   "outputs": [
    {
     "data": {
      "text/plain": [
       "array([[ 7,  9, 12],\n",
       "       [14, 16, 18]])"
      ]
     },
     "execution_count": 54,
     "metadata": {},
     "output_type": "execute_result"
    }
   ],
   "source": [
    "#Sum:\n",
    "matrix1 + matrix2"
   ]
  },
  {
   "cell_type": "code",
   "execution_count": 55,
   "metadata": {},
   "outputs": [
    {
     "data": {
      "text/plain": [
       "array([[ 6, 14, 27],\n",
       "       [40, 55, 72]])"
      ]
     },
     "execution_count": 55,
     "metadata": {},
     "output_type": "execute_result"
    }
   ],
   "source": [
    "#Elementwise product:\n",
    "matrix1 * matrix2\n",
    "#or\n",
    "np.multiply(matrix1, matrix2)"
   ]
  },
  {
   "cell_type": "code",
   "execution_count": 56,
   "metadata": {},
   "outputs": [
    {
     "data": {
      "text/plain": [
       "array([[ 47,  68],\n",
       "       [113, 167]])"
      ]
     },
     "execution_count": 56,
     "metadata": {},
     "output_type": "execute_result"
    }
   ],
   "source": [
    "#Dot product:\n",
    "matrix1 @ matrix2.T\n",
    "#or\n",
    "np.dot(matrix1, matrix2.T)"
   ]
  },
  {
   "cell_type": "code",
   "execution_count": 57,
   "metadata": {},
   "outputs": [
    {
     "name": "stdout",
     "output_type": "stream",
     "text": [
      "[[16.3  16.98 19.74 19.49  8.38 12.65 12.17 15.4  17.34 14.94]\n",
      " [19.97 11.75 14.29 15.41 11.02 15.39  9.82 19.22  8.64  8.13]\n",
      " [14.23  8.27 12.6  11.43  8.81  9.54 13.06 18.01  8.64 15.26]\n",
      " [13.07 13.95 13.32 16.54 18.78 12.53 15.34 16.1  18.54 11.87]\n",
      " [10.92 14.64 11.61 17.87 18.7  18.41  9.98 14.99 16.61 19.  ]]\n"
     ]
    }
   ],
   "source": [
    "#Exercise 4:\n",
    "#You have 10 students, who take 5 courses each.\n",
    "\n",
    "grade_array = np.round(np.random.uniform(8, 20, size = (5, 10)), 2)\n",
    "print(grade_array)"
   ]
  },
  {
   "cell_type": "code",
   "execution_count": null,
   "metadata": {},
   "outputs": [],
   "source": [
    "# Fill in the code below so that it returns a numpy array containing the average\n",
    "# of every student, and a list of comments\n",
    "\n",
    "def grade_students(grade_array):\n",
    "    comment_list = []\n",
    "    avg_list = []\n",
    "    \n",
    "    for student_index in range(___.shape[1]):\n",
    "        student_grades = grade_array[:, ___]\n",
    "        student_avg = np.___(student_grades) #Look for the numpy function that takes the mean over a vector\n",
    "        ___.append(student_avg)\n",
    "        \n",
    "    for ___ in avg_list:\n",
    "        if ___ < 10:\n",
    "            comment_list.___(\"Insufficient\")\n",
    "        elif ___ >= 10 and ___ < 12:\n",
    "            comment_list.___(\"Pass\")\n",
    "        elif ___ >= 12 and ___ < 16:\n",
    "            comment_list.___(\"Good\")\n",
    "        else:\n",
    "            comment_list.___(\"Excellent\")\n",
    "            \n",
    "    return np.round(___, 2), comment_list #np.round(, n) rounds up the values to the nth decimal"
   ]
  },
  {
   "cell_type": "code",
   "execution_count": null,
   "metadata": {},
   "outputs": [],
   "source": [
    "#test your function:\n",
    "\n",
    "grade_students(grade_array)"
   ]
  },
  {
   "cell_type": "markdown",
   "metadata": {},
   "source": [
    "## Basic Optimisation with Scipy"
   ]
  },
  {
   "cell_type": "code",
   "execution_count": 58,
   "metadata": {},
   "outputs": [],
   "source": [
    "from scipy.optimize import minimize"
   ]
  },
  {
   "cell_type": "code",
   "execution_count": 59,
   "metadata": {},
   "outputs": [],
   "source": [
    "def f(x):\n",
    "    return (x[0]-1)**2 + (x[1]-1)**2"
   ]
  },
  {
   "cell_type": "code",
   "execution_count": 60,
   "metadata": {},
   "outputs": [
    {
     "data": {
      "text/plain": [
       "      fun: 1.0174381484248428e-16\n",
       " hess_inv: array([[ 0.75, -0.25],\n",
       "       [-0.25,  0.75]])\n",
       "      jac: array([6.36252046e-10, 6.36252046e-10])\n",
       "  message: 'Optimization terminated successfully.'\n",
       "     nfev: 12\n",
       "      nit: 2\n",
       "     njev: 3\n",
       "   status: 0\n",
       "  success: True\n",
       "        x: array([0.99999999, 0.99999999])"
      ]
     },
     "execution_count": 60,
     "metadata": {},
     "output_type": "execute_result"
    }
   ],
   "source": [
    "minimize(f, x0 = [0, 0])"
   ]
  },
  {
   "cell_type": "markdown",
   "metadata": {},
   "source": [
    "## Graphs with Matplotlib"
   ]
  },
  {
   "cell_type": "code",
   "execution_count": 61,
   "metadata": {},
   "outputs": [],
   "source": [
    "import matplotlib.pyplot as plt"
   ]
  },
  {
   "cell_type": "code",
   "execution_count": 62,
   "metadata": {},
   "outputs": [],
   "source": [
    "x = np.linspace(0, 2*np.pi, 1000) #create a vector with 1000 ordered entries going from 0 to 4*pi"
   ]
  },
  {
   "cell_type": "code",
   "execution_count": 63,
   "metadata": {},
   "outputs": [],
   "source": [
    "y_s = np.sin(x) #broadcasting: python/numpy understands that we apply the sin function to the whole $x$ vector, and returns \n",
    "                #another vector of the same size\n",
    "y_c = np.cos(x)"
   ]
  },
  {
   "cell_type": "code",
   "execution_count": 64,
   "metadata": {},
   "outputs": [
    {
     "data": {
      "image/png": "[encoded data removed]",
      "text/plain": [
       "<Figure size 432x288 with 1 Axes>"
      ]
     },
     "metadata": {
      "needs_background": "light"
     },
     "output_type": "display_data"
    }
   ],
   "source": [
    "plt.plot(x, y_s, c='r', lw=1)\n",
    "plt.plot(x, y_c, c='g', lw=1)\n",
    "plt.show()"
   ]
  },
  {
   "cell_type": "code",
   "execution_count": 65,
   "metadata": {},
   "outputs": [
    {
     "data": {
      "image/png": "[encoded data removed]",
      "text/plain": [
       "<Figure size 432x288 with 1 Axes>"
      ]
     },
     "metadata": {
      "needs_background": "light"
     },
     "output_type": "display_data"
    }
   ],
   "source": [
    "y_f = x**2\n",
    "plt.plot(x, y_f)\n",
    "plt.axis([0, 5, 0, 40])\n",
    "plt.show()"
   ]
  }
 ],
 "metadata": {
  "kernelspec": {
   "display_name": "Python 3",
   "language": "python",
   "name": "python3"
  },
  "language_info": {
   "codemirror_mode": {
    "name": "ipython",
    "version": 3
   },
   "file_extension": ".py",
   "mimetype": "text/x-python",
   "name": "python",
   "nbconvert_exporter": "python",
   "pygments_lexer": "ipython3",
   "version": "3.7.4"
  }
 },
 "nbformat": 4,
 "nbformat_minor": 2
}
